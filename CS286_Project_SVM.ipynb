{
 "cells": [
  {
   "cell_type": "code",
   "execution_count": 36,
   "metadata": {},
   "outputs": [],
   "source": [
    "import numpy as np\n",
    "from numpy import genfromtxt\n",
    "from sklearn import svm\n",
    "from sklearn.feature_selection import RFE\n",
    "from sklearn.model_selection import train_test_split"
   ]
  },
  {
   "cell_type": "code",
   "execution_count": 37,
   "metadata": {},
   "outputs": [],
   "source": [
    "data = np.genfromtxt('spambase.data', delimiter=',')"
   ]
  },
  {
   "cell_type": "code",
   "execution_count": 38,
   "metadata": {},
   "outputs": [],
   "source": [
    "#print(data)"
   ]
  },
  {
   "cell_type": "code",
   "execution_count": 39,
   "metadata": {},
   "outputs": [
    {
     "name": "stdout",
     "output_type": "stream",
     "text": [
      "[ 0.    0.07  0.06 ...,  0.    0.    0.  ]\n"
     ]
    }
   ],
   "source": [
    "x = data[:, 0:57]\n",
    "#print(x)\n",
    "free = data[:,16]\n",
    "print(free)"
   ]
  },
  {
   "cell_type": "code",
   "execution_count": 40,
   "metadata": {},
   "outputs": [],
   "source": [
    "y = data[:,57]\n",
    "#print(y)"
   ]
  },
  {
   "cell_type": "code",
   "execution_count": 41,
   "metadata": {},
   "outputs": [],
   "source": [
    "x_train, x_test, y_train, y_test = train_test_split(x, y, test_size=0.4)"
   ]
  },
  {
   "cell_type": "code",
   "execution_count": 42,
   "metadata": {},
   "outputs": [
    {
     "data": {
      "text/plain": [
       "SVC(C=1.0, cache_size=200, class_weight=None, coef0=0.0,\n",
       "  decision_function_shape='ovr', degree=3, gamma='auto', kernel='linear',\n",
       "  max_iter=-1, probability=False, random_state=None, shrinking=True,\n",
       "  tol=0.001, verbose=False)"
      ]
     },
     "execution_count": 42,
     "metadata": {},
     "output_type": "execute_result"
    }
   ],
   "source": [
    "clf = svm.SVC(kernel='linear', C = 1.0)\n",
    "clf.fit(x_train,y_train)"
   ]
  },
  {
   "cell_type": "code",
   "execution_count": 43,
   "metadata": {},
   "outputs": [
    {
     "data": {
      "text/plain": [
       "0.92667028788701788"
      ]
     },
     "execution_count": 43,
     "metadata": {},
     "output_type": "execute_result"
    }
   ],
   "source": [
    "predicted = clf.predict(x_test)\n",
    "from sklearn.metrics import accuracy_score\n",
    "accuracy_score(y_test, predicted)"
   ]
  },
  {
   "cell_type": "code",
   "execution_count": 44,
   "metadata": {},
   "outputs": [
    {
     "name": "stdout",
     "output_type": "stream",
     "text": [
      "[[ -1.37129369e-01   1.11287306e-04  -4.22711688e-02   5.30163775e-01\n",
      "    4.20456827e-01   7.96202344e-01   2.20733035e+00   4.62352224e-01\n",
      "    9.10063035e-01   2.83254279e-02  -5.12264397e-01  -1.12047178e-01\n",
      "   -1.85107240e-01  -2.20309912e-03   1.91391194e-01   8.74226072e-01\n",
      "    6.15537434e-01   5.25607048e-02   1.87862130e-02   5.59143656e-01\n",
      "    1.21400626e-01   8.45259223e-02   1.34372795e+00   5.60844298e-01\n",
      "   -2.05925136e+00  -4.75493816e-01  -1.93483005e+00   2.05573304e-01\n",
      "   -6.59096229e-01  -4.61322309e-02  -8.59920289e-01   5.15090242e-01\n",
      "   -6.44811519e-01   6.34339306e-01  -6.48739443e-01   7.86585987e-01\n",
      "   -6.63863562e-02  -4.28318879e-01  -7.42430319e-01  -5.68455716e-01\n",
      "   -1.18000000e+00  -1.35161864e+00  -1.95925684e-01  -9.66968409e-01\n",
      "   -5.17730092e-01  -9.14056099e-01  -4.62647029e-01  -1.22910212e+00\n",
      "   -5.37152154e-01  -9.85279710e-03  -6.64862717e-01   2.78755809e-01\n",
      "    3.47536964e+00   4.47453864e-01   9.07866612e-02   6.16295454e-03\n",
      "    3.00433760e-04]]\n"
     ]
    }
   ],
   "source": [
    "print (clf.coef_)"
   ]
  },
  {
   "cell_type": "code",
   "execution_count": 45,
   "metadata": {},
   "outputs": [
    {
     "data": {
      "image/png": "[encoded data removed]",
      "text/plain": [
       "<matplotlib.figure.Figure at 0x10f471e90>"
      ]
     },
     "metadata": {},
     "output_type": "display_data"
    }
   ],
   "source": [
    "import matplotlib.pyplot as plt\n",
    "%matplotlib inline\n",
    "\n",
    "objects = ('make', \n",
    "'address',\n",
    "'all',\n",
    "'3d',\n",
    "'our',\n",
    "'over',         \n",
    "'remove',       \n",
    "'internet',     \n",
    "'order',        \n",
    "'mail',         \n",
    "'receive',      \n",
    "'will',         \n",
    "'people',       \n",
    "'report',       \n",
    "'addresses',    \n",
    "'free',         \n",
    "'business',     \n",
    "'email',        \n",
    "'you',          \n",
    "'credit',       \n",
    "'your',         \n",
    "'font',         \n",
    "'000',          \n",
    "'money',        \n",
    "'hp',           \n",
    "'hpl',          \n",
    "'george',       \n",
    "'650',          \n",
    "'lab',          \n",
    "'labs',         \n",
    "'telnet',       \n",
    "'857',          \n",
    "'data',         \n",
    "'415',          \n",
    "'85',           \n",
    "'technology',   \n",
    "'1999',         \n",
    "'parts',        \n",
    "'pm',           \n",
    "'direct',       \n",
    "'cs',           \n",
    "'meeting',      \n",
    "'original',     \n",
    "'project',      \n",
    "'re',           \n",
    "'edu',          \n",
    "'table',        \n",
    "'conference',   \n",
    "';',            \n",
    "'(',            \n",
    "'[',            \n",
    "'!',            \n",
    "'$',            \n",
    "'#',            \n",
    "'average', \n",
    "'longest', \n",
    "'total')\n",
    "y_pos = np.arange(len(objects))\n",
    "\n",
    "svm_weights = (clf.coef_ ** 2).sum(axis=0)\n",
    "svm_weights /= svm_weights.max()\n",
    " \n",
    "plt.bar(y_pos, svm_weights, width = 0.8, align='center', alpha=0.5)\n",
    "plt.xticks(y_pos, objects)\n",
    "plt.ylabel('Count')\n",
    "plt.title('Word Count Bar Chart')\n",
    " \n",
    "plt.show()"
   ]
  },
  {
   "cell_type": "code",
   "execution_count": 46,
   "metadata": {},
   "outputs": [
    {
     "name": "stdout",
     "output_type": "stream",
     "text": [
      "[[  3.20000000e-01   0.00000000e+00   0.00000000e+00 ...,   7.78000000e-01\n",
      "    0.00000000e+00   2.78000000e+02]\n",
      " [  1.40000000e-01   2.10000000e-01   2.10000000e-01 ...,   3.72000000e-01\n",
      "    1.80000000e-01   1.02800000e+03]\n",
      " [  1.23000000e+00   1.90000000e-01   3.80000000e-01 ...,   2.76000000e-01\n",
      "    1.84000000e-01   2.25900000e+03]\n",
      " ..., \n",
      " [  0.00000000e+00   0.00000000e+00   0.00000000e+00 ...,   0.00000000e+00\n",
      "    0.00000000e+00   1.18000000e+02]\n",
      " [  3.20000000e-01   0.00000000e+00   0.00000000e+00 ...,   0.00000000e+00\n",
      "    0.00000000e+00   7.80000000e+01]\n",
      " [  0.00000000e+00   0.00000000e+00   0.00000000e+00 ...,   1.25000000e-01\n",
      "    0.00000000e+00   4.00000000e+01]]\n"
     ]
    },
    {
     "data": {
      "text/plain": [
       "(4601, 12)"
      ]
     },
     "execution_count": 46,
     "metadata": {},
     "output_type": "execute_result"
    }
   ],
   "source": [
    "#Univariate Selection\n",
    "from sklearn.feature_selection import SelectPercentile, f_classif \n",
    "\n",
    "selector = SelectPercentile(f_classif, percentile=20)\n",
    "fit = selector.fit(x, y)\n",
    "features = fit.transform(x)\n",
    "\n",
    "print(features)\n",
    "features.shape\n",
    "#scores = -np.log10(selector.pvalues_)\n",
    "#scores /= scores.max()"
   ]
  },
  {
   "cell_type": "code",
   "execution_count": 47,
   "metadata": {},
   "outputs": [],
   "source": [
    "#plt.bar(X_indices - .45, scores, width=.2,\n",
    "#label=r'Univariate score ($-Log(p_{value})$)', color='darkorange',\n",
    "#edgecolor='black')"
   ]
  },
  {
   "cell_type": "code",
   "execution_count": 48,
   "metadata": {},
   "outputs": [],
   "source": [
    "#clf_selected = svm.SVC(kernel='linear')\n",
    "#clf_selected.fit(selector.transform(x), y)"
   ]
  },
  {
   "cell_type": "code",
   "execution_count": 49,
   "metadata": {},
   "outputs": [
    {
     "data": {
      "text/plain": [
       "SVC(C=1.0, cache_size=200, class_weight=None, coef0=0.0,\n",
       "  decision_function_shape='ovr', degree=3, gamma='auto', kernel='linear',\n",
       "  max_iter=-1, probability=False, random_state=None, shrinking=True,\n",
       "  tol=0.001, verbose=False)"
      ]
     },
     "execution_count": 49,
     "metadata": {},
     "output_type": "execute_result"
    }
   ],
   "source": [
    "features_train, features_test, y_train, y_test = train_test_split(features, y, test_size=0.4)\n",
    "\n",
    "clf_reduced = svm.SVC(kernel='linear', C = 1.0)\n",
    "clf_reduced.fit(features_train,y_train)"
   ]
  },
  {
   "cell_type": "code",
   "execution_count": 50,
   "metadata": {},
   "outputs": [
    {
     "data": {
      "text/plain": [
       "0.88593155893536124"
      ]
     },
     "execution_count": 50,
     "metadata": {},
     "output_type": "execute_result"
    }
   ],
   "source": [
    "predicted_Uni = clf_reduced.predict(features_test)\n",
    "from sklearn.metrics import accuracy_score\n",
    "accuracy_score(y_test, predicted_Uni)"
   ]
  },
  {
   "cell_type": "code",
   "execution_count": 51,
   "metadata": {},
   "outputs": [
    {
     "ename": "ImportError",
     "evalue": "No module named scikitplot",
     "output_type": "error",
     "traceback": [
      "\u001b[0;31m---------------------------------------------------------------------------\u001b[0m",
      "\u001b[0;31mImportError\u001b[0m                               Traceback (most recent call last)",
      "\u001b[0;32m<ipython-input-51-fd334f2f5ca0>\u001b[0m in \u001b[0;36m<module>\u001b[0;34m()\u001b[0m\n\u001b[1;32m      1\u001b[0m \u001b[0;32mimport\u001b[0m \u001b[0msklearn\u001b[0m\u001b[0;34m\u001b[0m\u001b[0m\n\u001b[0;32m----> 2\u001b[0;31m \u001b[0;32mimport\u001b[0m \u001b[0mscikitplot\u001b[0m \u001b[0;32mas\u001b[0m \u001b[0mskplt\u001b[0m\u001b[0;34m\u001b[0m\u001b[0m\n\u001b[0m\u001b[1;32m      3\u001b[0m \u001b[0;32mimport\u001b[0m \u001b[0mmatplotlib\u001b[0m\u001b[0;34m.\u001b[0m\u001b[0mpyplot\u001b[0m \u001b[0;32mas\u001b[0m \u001b[0mplt_pr\u001b[0m\u001b[0;34m\u001b[0m\u001b[0m\n\u001b[1;32m      4\u001b[0m \u001b[0;32mimport\u001b[0m \u001b[0mnumpy\u001b[0m \u001b[0;32mas\u001b[0m \u001b[0mnp\u001b[0m\u001b[0;34m\u001b[0m\u001b[0m\n\u001b[1;32m      5\u001b[0m \u001b[0;32mfrom\u001b[0m \u001b[0msklearn\u001b[0m\u001b[0;34m.\u001b[0m\u001b[0mmetrics\u001b[0m \u001b[0;32mimport\u001b[0m \u001b[0mprecision_recall_curve\u001b[0m\u001b[0;34m\u001b[0m\u001b[0m\n",
      "\u001b[0;31mImportError\u001b[0m: No module named scikitplot"
     ]
    }
   ],
   "source": [
    "import sklearn\n",
    "import scikitplot as skplt\n",
    "import matplotlib.pyplot as plt_pr\n",
    "import numpy as np\n",
    "from sklearn.metrics import precision_recall_curve\n",
    "from sklearn.metrics import roc_curve, auc\n",
    "\n",
    "precision, recall, _ = precision_recall_curve(y_test, predicted_Uni)\n",
    "pr_auc = auc(recall, precision)\n",
    "\n",
    "plt_pr.step(recall, precision, color='b', alpha=0.8,\n",
    "         where='post', label='AUC = %0.2f'% pr_auc)\n",
    "plt_pr.xlabel('Recall')\n",
    "plt_pr.ylabel('Precision')\n",
    "plt_pr.ylim([0.0, 1])\n",
    "plt_pr.xlim([0.0, 1])\n",
    "plt_pr.title('PR Curve')\n",
    "plt_pr.legend(loc='lower right')"
   ]
  },
  {
   "cell_type": "code",
   "execution_count": null,
   "metadata": {},
   "outputs": [],
   "source": [
    "false_positive_rate, true_positive_rate, thresholds = roc_curve(y_test, predicted_Uni)\n",
    "roc_auc = auc(false_positive_rate, true_positive_rate)\n",
    "\n",
    "plt.title('ROC Curve')\n",
    "plt.plot(false_positive_rate, true_positive_rate, 'b',\n",
    "label='AUC = %0.2f'% roc_auc)\n",
    "plt.legend(loc='lower right')\n",
    "plt.plot([0,1],[0,1],'r--')\n",
    "plt.xlim([0,1])\n",
    "plt.ylim([0,1])\n",
    "plt.ylabel('True Positive Rate')\n",
    "plt.xlabel('False Positive Rate')\n",
    "plt.show()"
   ]
  },
  {
   "cell_type": "code",
   "execution_count": null,
   "metadata": {},
   "outputs": [],
   "source": [
    "# Compare Algorithms\n",
    "import pandas\n",
    "import matplotlib.pyplot as plt\n",
    "import matplotlib as mpl\n",
    "from sklearn import model_selection\n",
    "from sklearn.model_selection import train_test_split\n",
    "from sklearn.linear_model import LogisticRegression\n",
    "from sklearn.tree import DecisionTreeClassifier\n",
    "from sklearn.neighbors import KNeighborsClassifier\n",
    "from sklearn.discriminant_analysis import LinearDiscriminantAnalysis\n",
    "from sklearn.naive_bayes import GaussianNB\n",
    "from sklearn.svm import SVC\n",
    "from sklearn.ensemble import RandomForestClassifier\n",
    "from sklearn.neural_network import MLPClassifier\n",
    "from sklearn.metrics import precision_recall_curve\n",
    "from sklearn.metrics import roc_curve, auc\n",
    "import sklearn\n",
    "import scikitplot as skplt\n",
    "import matplotlib.pyplot as plt_pr\n",
    "import matplotlib.pyplot as plt_roc\n",
    "import numpy as np\n",
    "from sklearn.metrics import precision_recall_curve\n",
    "from sklearn.metrics import roc_curve, auc\n",
    "from sklearn.metrics import accuracy_score\n",
    "from sklearn.metrics import make_scorer\n",
    "from sklearn.metrics import precision_score\n",
    "from sklearn.metrics import recall_score\n",
    "\n",
    "#load dataset\n",
    "data = np.genfromtxt('C:\\mm\\spambasedata.txt', delimiter=',')\n",
    "np.random.shuffle(data)\n",
    "X = data[:, 0:57]\n",
    "Y = data[:,57]\n",
    "#prepare configuration for cross validation test harness\n",
    "seed = 7\n",
    "#prepare models\n",
    "models = []\n",
    "models.append(('LIN_C=1', SVC(kernel='linear', C = 1.0),'teal'))\n",
    "models.append(('LIN_C=2', SVC(kernel='linear', C = 2.0),'red'))\n",
    "models.append(('LIN_C=4', SVC(kernel='linear', C = 4.0),'blue'))\n",
    "models.append(('POLY_C=1,D=1', SVC(kernel='poly', C = 1.0, degree=1),'green'))\n",
    "models.append(('POLY_C=1_D=2', SVC(kernel='poly', C = 1.0, degree=2),'yellow'))\n",
    "models.append(('RBF_C=1', SVC(kernel='rbf', C = 1.0),'black'))\n",
    "models.append(('RBF_C=2', SVC(kernel='rbf', C = 2.0),'purple'))\n",
    "\n",
    "#evaluate each model in turn\n",
    "results = []\n",
    "names = []\n",
    "results_acc = []\n",
    "results_pre = []\n",
    "results_rec = []\n",
    "scoring = 'accuracy'\n",
    "for name,model,color in models:\n",
    "    print(model)\n",
    "    x_train, x_test, y_train, y_test = train_test_split(X, Y, test_size=0.4)\n",
    "    model.fit(x_train,y_train)\n",
    "    predicted = model.predict(x_test)\n",
    "    precision, recall, _ = precision_recall_curve(y_test, predicted)\n",
    "    pr_auc = auc(recall, precision)\n",
    "    plt_pr.step(recall, precision, color=color, alpha=0.8,\n",
    "         where='post', label='%s AUC = %0.2f'% (name, pr_auc))\n",
    "    plt_pr.legend(loc='lower left')\n",
    "    msg = \"%s: %f \" % (name, pr_auc)\n",
    "    print(msg)\n",
    "plt_pr.xlabel('Recall')\n",
    "plt_pr.ylabel('Precision')\n",
    "plt_pr.ylim([0.0, 1])\n",
    "plt_pr.xlim([0.0, 1])\n",
    "plt_pr.title('PR Curve')\n",
    "plt_pr.legend(loc='lower left')\n",
    "plt_pr.show()\n",
    "\n",
    "\n",
    "for name,model,color in models:\n",
    "    print(model)\n",
    "    x_train, x_test, y_train, y_test = train_test_split(X, Y, test_size=0.4)\n",
    "    model.fit(x_train,y_train)\n",
    "    predicted = model.predict(x_test)\n",
    "    acc = accuracy_score(y_test, predicted)\n",
    "    pre = precision_score(y_test, predicted)\n",
    "    rec = recall_score(y_test, predicted)\n",
    "    results_acc.append(acc)\n",
    "    results_pre.append(pre)\n",
    "    results_rec.append(rec)\n",
    "    precision, recall, _ = precision_recall_curve(y_test, predicted)\n",
    "    false_positive_rate, true_positive_rate, thresholds = roc_curve(y_test, predicted)\n",
    "    roc_auc = auc(false_positive_rate, true_positive_rate)\n",
    "    plt_roc.plot(false_positive_rate, true_positive_rate, color,\n",
    "        label='%s AUC = %0.2f'% (name,roc_auc))\n",
    "    plt_roc.legend(loc='lower right')\n",
    "    msg = \"%s: %f \" % (name, roc_auc)\n",
    "    print(msg)\n",
    "    scores = \"%s: %f %f %f \" %(name, acc, pre, rec)\n",
    "    print(scores)\n",
    "    \n",
    "plt_roc.title('ROC Curve')\n",
    "plt_roc.legend(loc='lower right')\n",
    "#plt_roc.plot([0,1],[0,1])\n",
    "plt_roc.xlim([0,1])\n",
    "plt_roc.ylim([0,1])\n",
    "plt_roc.ylabel('True Positive Rate')\n",
    "plt_roc.xlabel('False Positive Rate')\n",
    "plt_roc.show()\n",
    "                       \n",
    "N = 7\n",
    "\n",
    "ind = np.arange(N)  # the x locations for the groups\n",
    "print(ind)\n",
    "width = 0.275       # the width of the bars\n",
    "\n",
    "fig, ax = plt.subplots()\n",
    "rects1 = ax.bar(ind, results_acc, width, color='m')\n",
    "\n",
    "rects2 = ax.bar(ind + width, results_pre, width, color='g')\n",
    "\n",
    "rects3 = ax.bar(ind + width + width, results_rec, width, color='b')\n",
    "\n",
    "# add some text for labels, title and axes ticks\n",
    "ax.set_ylabel('Scores')\n",
    "ax.set_title('Algorithm Comparison')\n",
    "ax.set_xticks(ind + 1.5 * width)\n",
    "ax.set_xticklabels(('LIN_C=1','LIN_C=2','LIN_C=4','POLY_C=1,D=1','POLY_C=1_D=2','RBF_C=1','RBF_C=2'))\n",
    "#ax.set_xticklabels(('SVM1'))\n",
    "\n",
    "ax.legend((rects1[0], rects2[0], rects3[0]), ('Accuracy', 'Precision', 'Recall'), loc=(1.05, 0.5))\n",
    "\n",
    "\n",
    "def autolabel(rects):\n",
    "    \"\"\"\n",
    "    Attach a text label above each bar displaying its height\n",
    "    \"\"\"\n",
    "    for rect in rects:\n",
    "        height = rect.get_height()\n",
    "        #print(height)\n",
    "        ax.text(rect.get_x() + rect.get_width()/2., height,\n",
    "                '%1.2f' % height,\n",
    "                ha='center', va='bottom', size='smaller')\n",
    "\n",
    "autolabel(rects1)\n",
    "autolabel(rects2)\n",
    "autolabel(rects3)\n",
    "\n",
    "plt.show()"
   ]
  },
  {
   "cell_type": "code",
   "execution_count": null,
   "metadata": {},
   "outputs": [],
   "source": []
  },
  {
   "cell_type": "code",
   "execution_count": null,
   "metadata": {},
   "outputs": [],
   "source": []
  },
  {
   "cell_type": "code",
   "execution_count": null,
   "metadata": {},
   "outputs": [],
   "source": []
  },
  {
   "cell_type": "code",
   "execution_count": null,
   "metadata": {},
   "outputs": [],
   "source": []
  },
  {
   "cell_type": "code",
   "execution_count": null,
   "metadata": {},
   "outputs": [],
   "source": []
  }
 ],
 "metadata": {
  "anaconda-cloud": {},
  "kernelspec": {
   "display_name": "Python 2",
   "language": "python",
   "name": "python2"
  },
  "language_info": {
   "codemirror_mode": {
    "name": "ipython",
    "version": 2
   },
   "file_extension": ".py",
   "mimetype": "text/x-python",
   "name": "python",
   "nbconvert_exporter": "python",
   "pygments_lexer": "ipython2",
   "version": "2.7.12"
  }
 },
 "nbformat": 4,
 "nbformat_minor": 1
}
